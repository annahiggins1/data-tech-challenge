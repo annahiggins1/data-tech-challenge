{
 "cells": [
  {
   "cell_type": "code",
   "execution_count": 216,
   "id": "62b7c4f3",
   "metadata": {},
   "outputs": [],
   "source": [
    "import pandas as pd\n",
    "from sklearn.model_selection import train_test_split\n",
    "from sklearn.linear_model import LinearRegression\n",
    "from sklearn.preprocessing import PolynomialFeatures, StandardScaler\n",
    "from sklearn.linear_model import Lasso, Ridge, ElasticNet\n",
    "from sklearn.metrics import mean_squared_error\n",
    "from sklearn.tree import DecisionTreeRegressor\n",
    "from sklearn.ensemble import RandomForestRegressor\n",
    "import os"
   ]
  },
  {
   "cell_type": "code",
   "execution_count": 217,
   "id": "f72bb5c9",
   "metadata": {},
   "outputs": [],
   "source": [
    "DIRECTORY = os.getcwd() + '/data-tech-challenge'"
   ]
  },
  {
   "cell_type": "code",
   "execution_count": 218,
   "id": "f8795afb",
   "metadata": {},
   "outputs": [
    {
     "data": {
      "text/html": [
       "<div>\n",
       "<style scoped>\n",
       "    .dataframe tbody tr th:only-of-type {\n",
       "        vertical-align: middle;\n",
       "    }\n",
       "\n",
       "    .dataframe tbody tr th {\n",
       "        vertical-align: top;\n",
       "    }\n",
       "\n",
       "    .dataframe thead th {\n",
       "        text-align: right;\n",
       "    }\n",
       "</style>\n",
       "<table border=\"1\" class=\"dataframe\">\n",
       "  <thead>\n",
       "    <tr style=\"text-align: right;\">\n",
       "      <th></th>\n",
       "      <th>Date</th>\n",
       "      <th>AustralianPort</th>\n",
       "      <th>ForeignPort</th>\n",
       "      <th>Country</th>\n",
       "      <th>Passengers_In</th>\n",
       "      <th>Freight_In_(tonnes)</th>\n",
       "      <th>Mail_In_(tonnes)</th>\n",
       "      <th>Passengers_Out</th>\n",
       "      <th>Freight_Out_(tonnes)</th>\n",
       "      <th>Mail_Out_(tonnes)</th>\n",
       "      <th>Passengers_Total</th>\n",
       "      <th>Freight_Total_(tonnes)</th>\n",
       "      <th>Mail_Total_(tonnes)</th>\n",
       "      <th>Year</th>\n",
       "      <th>Month_num</th>\n",
       "      <th>Route</th>\n",
       "    </tr>\n",
       "  </thead>\n",
       "  <tbody>\n",
       "    <tr>\n",
       "      <th>3</th>\n",
       "      <td>1985-01-01</td>\n",
       "      <td>Adelaide</td>\n",
       "      <td>Frankfurt</td>\n",
       "      <td>Germany</td>\n",
       "      <td>115</td>\n",
       "      <td>0.009</td>\n",
       "      <td>0.0</td>\n",
       "      <td>171</td>\n",
       "      <td>0.000</td>\n",
       "      <td>0.248</td>\n",
       "      <td>286</td>\n",
       "      <td>0.009</td>\n",
       "      <td>0.248</td>\n",
       "      <td>1985</td>\n",
       "      <td>1</td>\n",
       "      <td>Adelaide - Frankfurt</td>\n",
       "    </tr>\n",
       "    <tr>\n",
       "      <th>164</th>\n",
       "      <td>1985-02-01</td>\n",
       "      <td>Adelaide</td>\n",
       "      <td>Frankfurt</td>\n",
       "      <td>Germany</td>\n",
       "      <td>235</td>\n",
       "      <td>0.021</td>\n",
       "      <td>0.0</td>\n",
       "      <td>146</td>\n",
       "      <td>0.000</td>\n",
       "      <td>0.244</td>\n",
       "      <td>381</td>\n",
       "      <td>0.021</td>\n",
       "      <td>0.244</td>\n",
       "      <td>1985</td>\n",
       "      <td>2</td>\n",
       "      <td>Adelaide - Frankfurt</td>\n",
       "    </tr>\n",
       "    <tr>\n",
       "      <th>323</th>\n",
       "      <td>1985-03-01</td>\n",
       "      <td>Adelaide</td>\n",
       "      <td>Frankfurt</td>\n",
       "      <td>Germany</td>\n",
       "      <td>133</td>\n",
       "      <td>2.847</td>\n",
       "      <td>0.0</td>\n",
       "      <td>192</td>\n",
       "      <td>0.025</td>\n",
       "      <td>0.325</td>\n",
       "      <td>325</td>\n",
       "      <td>2.872</td>\n",
       "      <td>0.325</td>\n",
       "      <td>1985</td>\n",
       "      <td>3</td>\n",
       "      <td>Adelaide - Frankfurt</td>\n",
       "    </tr>\n",
       "    <tr>\n",
       "      <th>480</th>\n",
       "      <td>1985-04-01</td>\n",
       "      <td>Adelaide</td>\n",
       "      <td>Frankfurt</td>\n",
       "      <td>Germany</td>\n",
       "      <td>84</td>\n",
       "      <td>0.222</td>\n",
       "      <td>0.0</td>\n",
       "      <td>113</td>\n",
       "      <td>0.000</td>\n",
       "      <td>0.385</td>\n",
       "      <td>197</td>\n",
       "      <td>0.222</td>\n",
       "      <td>0.385</td>\n",
       "      <td>1985</td>\n",
       "      <td>4</td>\n",
       "      <td>Adelaide - Frankfurt</td>\n",
       "    </tr>\n",
       "    <tr>\n",
       "      <th>644</th>\n",
       "      <td>1985-05-01</td>\n",
       "      <td>Adelaide</td>\n",
       "      <td>Frankfurt</td>\n",
       "      <td>Germany</td>\n",
       "      <td>0</td>\n",
       "      <td>0.000</td>\n",
       "      <td>0.0</td>\n",
       "      <td>79</td>\n",
       "      <td>0.000</td>\n",
       "      <td>0.243</td>\n",
       "      <td>79</td>\n",
       "      <td>0.000</td>\n",
       "      <td>0.243</td>\n",
       "      <td>1985</td>\n",
       "      <td>5</td>\n",
       "      <td>Adelaide - Frankfurt</td>\n",
       "    </tr>\n",
       "  </tbody>\n",
       "</table>\n",
       "</div>"
      ],
      "text/plain": [
       "           Date AustralianPort ForeignPort  Country  Passengers_In  \\\n",
       "3    1985-01-01       Adelaide   Frankfurt  Germany            115   \n",
       "164  1985-02-01       Adelaide   Frankfurt  Germany            235   \n",
       "323  1985-03-01       Adelaide   Frankfurt  Germany            133   \n",
       "480  1985-04-01       Adelaide   Frankfurt  Germany             84   \n",
       "644  1985-05-01       Adelaide   Frankfurt  Germany              0   \n",
       "\n",
       "     Freight_In_(tonnes)  Mail_In_(tonnes)  Passengers_Out  \\\n",
       "3                  0.009               0.0             171   \n",
       "164                0.021               0.0             146   \n",
       "323                2.847               0.0             192   \n",
       "480                0.222               0.0             113   \n",
       "644                0.000               0.0              79   \n",
       "\n",
       "     Freight_Out_(tonnes)  Mail_Out_(tonnes)  Passengers_Total  \\\n",
       "3                   0.000              0.248               286   \n",
       "164                 0.000              0.244               381   \n",
       "323                 0.025              0.325               325   \n",
       "480                 0.000              0.385               197   \n",
       "644                 0.000              0.243                79   \n",
       "\n",
       "     Freight_Total_(tonnes)  Mail_Total_(tonnes)  Year  Month_num  \\\n",
       "3                     0.009                0.248  1985          1   \n",
       "164                   0.021                0.244  1985          2   \n",
       "323                   2.872                0.325  1985          3   \n",
       "480                   0.222                0.385  1985          4   \n",
       "644                   0.000                0.243  1985          5   \n",
       "\n",
       "                    Route  \n",
       "3    Adelaide - Frankfurt  \n",
       "164  Adelaide - Frankfurt  \n",
       "323  Adelaide - Frankfurt  \n",
       "480  Adelaide - Frankfurt  \n",
       "644  Adelaide - Frankfurt  "
      ]
     },
     "metadata": {},
     "output_type": "display_data"
    }
   ],
   "source": [
    "plane_data_df = pd.read_csv(DIRECTORY + '/data/plane_data_cleaned.csv')\n",
    "plane_data_df.rename(columns={\n",
    "    'Month': 'Date'\n",
    "}, inplace=True)\n",
    "\n",
    "plane_data_df['Route'] = plane_data_df['AustralianPort'] + ' - ' + plane_data_df['ForeignPort']\n",
    "\n",
    "adelaide_to_frankfurt_df = plane_data_df[plane_data_df['Route'] == 'Adelaide - Frankfurt']\n",
    "\n",
    "display(adelaide_to_frankfurt_df.head())"
   ]
  },
  {
   "cell_type": "markdown",
   "id": "b7cc45ea",
   "metadata": {},
   "source": [
    "### Linear Regression Test"
   ]
  },
  {
   "cell_type": "code",
   "execution_count": 219,
   "id": "4c719147",
   "metadata": {},
   "outputs": [
    {
     "name": "stdout",
     "output_type": "stream",
     "text": [
      "mse for linear regression: 6018.60\n",
      "R² score for linear regression: 0.116\n"
     ]
    }
   ],
   "source": [
    "model_df = adelaide_to_frankfurt_df.copy()\n",
    "\n",
    "# select features\n",
    "X = model_df[['Year', 'Month_num']]\n",
    "y = model_df['Passengers_Total']\n",
    "\n",
    "X_train, X_test, y_train, y_test = train_test_split(\n",
    "    X, y, test_size=0.2, random_state=42\n",
    ")\n",
    "\n",
    "# fit model\n",
    "reg = LinearRegression()\n",
    "reg.fit(X_train, y_train)\n",
    "\n",
    "# predict on test\n",
    "y_pred = reg.predict(X_test)\n",
    "\n",
    "mse = mean_squared_error(y_test, y_pred)\n",
    "r2 = reg.score(X_test, y_test)\n",
    "\n",
    "print(f\"mse for linear regression: {mse:.2f}\")\n",
    "print(f\"R² score for linear regression: {r2:.3f}\")"
   ]
  },
  {
   "cell_type": "markdown",
   "id": "04e73574",
   "metadata": {},
   "source": [
    "Interpretation: \n",
    "MSE is very high (probs because the passenger numbers are also very high -- the mae is around 77 which might be better. Still a bit on the higher end, but makes more sense with contextualization of the scale of passengers).\n",
    "\n",
    "r^2 - model does a pretty bad job of capturing patterns in the data\n",
    "\n",
    "Not a great model"
   ]
  },
  {
   "cell_type": "markdown",
   "id": "8847d184",
   "metadata": {},
   "source": [
    "# Lasso/Ridge/Elastic Net"
   ]
  },
  {
   "cell_type": "code",
   "execution_count": 220,
   "id": "3979c358",
   "metadata": {},
   "outputs": [
    {
     "name": "stdout",
     "output_type": "stream",
     "text": [
      "mse for lasso regression: 6018.60\n",
      "R² score for lasso regression: 0.116\n"
     ]
    }
   ],
   "source": [
    "scaler = StandardScaler()\n",
    "X_train_scaled = scaler.fit_transform(X_train)\n",
    "X_test_scaled = scaler.transform(X_test)\n",
    "\n",
    "# lasso regression\n",
    "lasso = Lasso(alpha=1.0)\n",
    "lasso.fit(X_train_scaled, y_train)\n",
    "y_pred_lasso = lasso.predict(X_test_scaled)\n",
    "\n",
    "mse_lasso = mean_squared_error(y_test, y_pred_lasso)\n",
    "r2_lasso = lasso.score(X_test_scaled, y_test)\n",
    "\n",
    "print(f\"mse for lasso regression: {mse:.2f}\")\n",
    "print(f\"R² score for lasso regression: {r2:.3f}\")"
   ]
  },
  {
   "cell_type": "code",
   "execution_count": 221,
   "id": "a56f5d2f",
   "metadata": {},
   "outputs": [
    {
     "name": "stdout",
     "output_type": "stream",
     "text": [
      "mse for ridge regression : 6024.48\n",
      "R² score for ridge regression: -82247.176\n"
     ]
    },
    {
     "name": "stderr",
     "output_type": "stream",
     "text": [
      "/opt/anaconda3/lib/python3.12/site-packages/sklearn/base.py:493: UserWarning: X does not have valid feature names, but LinearRegression was fitted with feature names\n",
      "  warnings.warn(\n"
     ]
    }
   ],
   "source": [
    "ridge = Ridge()\n",
    "ridge = ridge.fit(X_train_scaled,y_train)\n",
    "y_pred = ridge.predict(X_test_scaled)\n",
    "\n",
    "mse = mean_squared_error(y_test, y_pred)\n",
    "r2 = reg.score(X_test_scaled, y_test)\n",
    "\n",
    "print(f\"mse for ridge regression : {mse:.2f}\")\n",
    "print(f\"R² score for ridge regression: {r2:.3f}\")"
   ]
  },
  {
   "cell_type": "code",
   "execution_count": 222,
   "id": "4ebec38e",
   "metadata": {},
   "outputs": [
    {
     "name": "stdout",
     "output_type": "stream",
     "text": [
      "mse for elastic net regression : 6161.70\n",
      "R² score for elastic net regression: 0.115\n"
     ]
    }
   ],
   "source": [
    "elastic_net = ElasticNet()\n",
    "elastic_net = elastic_net.fit(X_train_scaled,y_train)\n",
    "y_pred = elastic_net.predict(X_test_scaled)\n",
    "\n",
    "mse = mean_squared_error(y_test, y_pred)\n",
    "r2 = ridge.score(X_test_scaled, y_test)\n",
    "\n",
    "print(f\"mse for elastic net regression : {mse:.2f}\")\n",
    "print(f\"R² score for elastic net regression: {r2:.3f}\")"
   ]
  },
  {
   "cell_type": "markdown",
   "id": "d2b4e616",
   "metadata": {},
   "source": [
    "Overall, Lasso/Ridge/Elastic Net models did on average, a little bit worse than the regular Linear Regression model based on MSE and r^2 metrics"
   ]
  },
  {
   "cell_type": "markdown",
   "id": "1ac806f1",
   "metadata": {},
   "source": [
    "### Polynomial Regression"
   ]
  },
  {
   "cell_type": "code",
   "execution_count": 223,
   "id": "a0eabab4",
   "metadata": {},
   "outputs": [
    {
     "name": "stdout",
     "output_type": "stream",
     "text": [
      "mse for linear regression: 2960.96\n",
      "R² score for linear regression: 0.565\n"
     ]
    }
   ],
   "source": [
    "X_poly_train = PolynomialFeatures(degree=2, include_bias=True).fit_transform(X_train)\n",
    "X_poly_test = PolynomialFeatures(degree=2, include_bias=True).fit_transform(X_test)\n",
    "\n",
    "X_train_poly = scaler.fit_transform(X_poly_train)\n",
    "X_test_poly = scaler.transform(X_poly_test)\n",
    "\n",
    "reg = LinearRegression()\n",
    "reg.fit(X_train_poly, y_train)\n",
    "\n",
    "# predict on test\n",
    "y_pred = reg.predict(X_test_poly)\n",
    "\n",
    "mse = mean_squared_error(y_test, y_pred)\n",
    "r2 = reg.score(X_test_poly, y_test)\n",
    "\n",
    "print(f\"mse for linear regression: {mse:.2f}\")\n",
    "print(f\"R² score for linear regression: {r2:.3f}\")"
   ]
  },
  {
   "cell_type": "markdown",
   "id": "05679760",
   "metadata": {},
   "source": [
    "Getting closer! Reduced mse and higher r^2 implies that this model fits slightly better and that the relationship between the features & passenger count may not be linear"
   ]
  },
  {
   "cell_type": "markdown",
   "id": "ed594d57",
   "metadata": {},
   "source": [
    "### Decision Tree"
   ]
  },
  {
   "cell_type": "code",
   "execution_count": 224,
   "id": "76880c6d",
   "metadata": {},
   "outputs": [
    {
     "name": "stdout",
     "output_type": "stream",
     "text": [
      "mse for decision tree: 3461.13\n",
      "r^2 for decision tree: 0.491\n"
     ]
    }
   ],
   "source": [
    "dt_reg = DecisionTreeRegressor(\n",
    "    random_state=42, \n",
    "    max_depth=10, \n",
    "    min_samples_split=10,\n",
    "    min_samples_leaf=5\n",
    ")\n",
    "\n",
    "# Fit the model\n",
    "dt_reg.fit(X_train, y_train)\n",
    "\n",
    "# Predict on test set\n",
    "y_pred_dt = dt_reg.predict(X_test)\n",
    "\n",
    "# Calculate metrics\n",
    "mse_dt = mean_squared_error(y_test, y_pred_dt)\n",
    "r2_dt = dt_reg.score(X_test, y_test)\n",
    "\n",
    "print(f\"mse for decision tree: {mse_dt:.2f}\")\n",
    "print(f\"r^2 for decision tree: {r2_dt:.3f}\")"
   ]
  },
  {
   "cell_type": "markdown",
   "id": "84e259bc",
   "metadata": {},
   "source": [
    "### Random Forest"
   ]
  },
  {
   "cell_type": "code",
   "execution_count": 225,
   "id": "59dd935d",
   "metadata": {},
   "outputs": [
    {
     "name": "stdout",
     "output_type": "stream",
     "text": [
      "mse for rfr: 2676.69\n",
      "r^2 Score for rfr: 0.607\n"
     ]
    }
   ],
   "source": [
    "rf_reg = RandomForestRegressor(\n",
    "    n_estimators=100,\n",
    "    max_depth=10,\n",
    "    min_samples_split=5,\n",
    "    min_samples_leaf=2,\n",
    "    random_state=42,\n",
    "    n_jobs=-1\n",
    ")\n",
    "\n",
    "rf_reg.fit(X_train, y_train)\n",
    "\n",
    "y_pred_rf = rf_reg.predict(X_test)\n",
    "\n",
    "mse_rf = mean_squared_error(y_test, y_pred_rf)\n",
    "r2_rf = rf_reg.score(X_test, y_test)\n",
    "\n",
    "print(f\"mse for rfr: {mse_rf:.2f}\")\n",
    "print(f\"r^2 Score for rfr: {r2_rf:.3f}\")"
   ]
  },
  {
   "cell_type": "markdown",
   "id": "a08759cf",
   "metadata": {},
   "source": [
    "RFR performed the best so far! With the lowest MSE (which has an MAE of about 50, which would make total sense while understanding the scale of the passengers) and the highest R^2 value (suggesting that the RFR model is very good at capturing patterns/the variance in the total passenger numbers), this model is pretty good."
   ]
  },
  {
   "cell_type": "code",
   "execution_count": null,
   "id": "31b4f640",
   "metadata": {},
   "outputs": [],
   "source": []
  },
  {
   "cell_type": "code",
   "execution_count": null,
   "id": "ec02d17a",
   "metadata": {},
   "outputs": [],
   "source": []
  }
 ],
 "metadata": {
  "kernelspec": {
   "display_name": "Python 3 (ipykernel)",
   "language": "python",
   "name": "python3"
  },
  "language_info": {
   "codemirror_mode": {
    "name": "ipython",
    "version": 3
   },
   "file_extension": ".py",
   "mimetype": "text/x-python",
   "name": "python",
   "nbconvert_exporter": "python",
   "pygments_lexer": "ipython3",
   "version": "3.12.4"
  }
 },
 "nbformat": 4,
 "nbformat_minor": 5
}
